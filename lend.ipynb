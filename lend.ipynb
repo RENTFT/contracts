{
 "cells": [
  {
   "cell_type": "code",
<<<<<<< HEAD
   "execution_count": 2,
=======
   "execution_count": 1,
>>>>>>> a966b32... wip
   "id": "2be7bba5",
   "metadata": {},
   "outputs": [],
   "source": [
    "from typing import List"
   ]
  },
  {
   "cell_type": "markdown",
   "id": "bb280312",
   "metadata": {},
   "source": [
    "- if length == 1 -> just **handle that single one**\n",
    "- if length > 1 -> **lastIx, currIx = 0, 1**\n",
    "- if consecutive (currIx == lastIx + 1) same address and amounts ![0, 0]: 1155 -> **loop until different address**\n",
    "- if consecutive amounts [0, 0], then 721 -> **handle lend on last**. **lastIx = currIx, currIx++**\n",
    "- if consecutive amounts [0, 0] and same address: same 721 but different tokenIds transfer -> **handle lend on last**\n",
    "- if consecutive same address, and now new address -> it was a batch transfer for 1155. Handle **lend for 1155 on last. Set last to current, set current to next; continue**\n"
   ]
  },
  {
   "cell_type": "code",
<<<<<<< HEAD
   "execution_count": 10,
=======
   "execution_count": 2,
>>>>>>> a966b32... wip
   "id": "20c20714",
   "metadata": {},
   "outputs": [],
   "source": [
    "from enum import Enum"
   ]
  },
  {
   "cell_type": "code",
<<<<<<< HEAD
   "execution_count": 17,
=======
   "execution_count": 3,
>>>>>>> a966b32... wip
   "id": "78949e50",
   "metadata": {},
   "outputs": [],
   "source": [
    "class NFT(Enum):\n",
    "    E721 = 1\n",
    "    E1155 = 2"
   ]
  },
  {
   "cell_type": "code",
<<<<<<< HEAD
   "execution_count": 44,
=======
   "execution_count": 4,
>>>>>>> a966b32... wip
   "id": "d6b3de09",
   "metadata": {},
   "outputs": [],
   "source": [
    "class NFTAddress:\n",
    "    def __init__(self, address: str, nft: NFT):\n",
    "        self.address = address\n",
    "        self.nft = nft\n",
    "    \n",
    "    def __repr__(self):\n",
    "        return f\"NFTAddress(address={self.address},nft={self.nft.name})\""
   ]
  },
  {
   "cell_type": "code",
<<<<<<< HEAD
   "execution_count": 96,
=======
   "execution_count": 5,
>>>>>>> a966b32... wip
   "id": "15119256",
   "metadata": {},
   "outputs": [],
   "source": [
    "def is721(_nft: NFT):\n",
    "    return _nft.value == NFT.E721.value"
   ]
  },
  {
   "cell_type": "code",
<<<<<<< HEAD
   "execution_count": 97,
=======
   "execution_count": 6,
>>>>>>> a966b32... wip
   "id": "1e71ab3d",
   "metadata": {},
   "outputs": [],
   "source": [
    "def is1155(_nft: NFT):\n",
    "    return  _nft.value == NFT.E1155.value"
   ]
  },
  {
   "cell_type": "code",
<<<<<<< HEAD
   "execution_count": 98,
=======
   "execution_count": 15,
>>>>>>> a966b32... wip
   "id": "1d32b91f",
   "metadata": {},
   "outputs": [],
   "source": [
    "def handle_lend(_nft: List[NFTAddress], _amounts: List[int]):\n",
<<<<<<< HEAD
    "    print('hi')\n",
    "    print(is721(_nft[0].nft))\n",
=======
>>>>>>> a966b32... wip
    "    if is721(_nft[0].nft):\n",
    "        print(f'handle_lend 721 | {_nft} {str(_amounts)}')\n",
    "    elif is1155(_nft[0].nft):\n",
    "        print(f'handle_lend 1155 | {_nft} {str(_amounts)}')\n",
    "    else:\n",
    "        return Exception('invalid token type')"
   ]
  },
  {
   "cell_type": "code",
<<<<<<< HEAD
   "execution_count": 99,
=======
   "execution_count": 23,
   "metadata": {},
   "outputs": [],
   "source": [
    "def handle_rent(_nft: List[NFTAddress], _amounts: List[int]):\n",
    "    if is721(_nft[0].nft):\n",
    "        print(f'handle_rent 721 | {_nft} {str(_amounts)}')\n",
    "    elif is1155(_nft[0].nft):\n",
    "        print(f'handle_rent 1155 | {_nft} {str(_amounts)}')\n",
    "    else:\n",
    "        return Exception('invalid token type')"
   ]
  },
  {
   "cell_type": "code",
   "execution_count": 16,
>>>>>>> a966b32... wip
   "id": "d992d2d5",
   "metadata": {},
   "outputs": [],
   "source": [
    "def lend(_nft: List[NFTAddress], _amounts: List[int]):\n",
    "\n",
    "    nft_len = len(_nft)    \n",
    "    if nft_len < 2:\n",
    "        handle_lend([_nft[0]], [_amounts[0]])\n",
    "        return\n",
    "\n",
    "    last_ix, curr_ix = 0, 1\n",
    "    while curr_ix < nft_len:\n",
    "\n",
    "        if _nft[last_ix].address == _nft[curr_ix].address \\\n",
    "            and _amounts[curr_ix] != 0:\n",
    "            curr_ix += 1\n",
    "            continue\n",
    "\n",
    "        handle_lend(_nft[last_ix:curr_ix], _amounts[last_ix:curr_ix])\n",
    "\n",
    "        last_ix = curr_ix\n",
    "        curr_ix += 1\n",
    "\n",
    "    handle_lend(_nft[last_ix:], _amounts[last_ix:])"
   ]
  },
  {
   "cell_type": "code",
<<<<<<< HEAD
   "execution_count": null,
   "id": "8d4a6b5a",
   "metadata": {},
   "outputs": [],
   "source": []
  },
  {
   "cell_type": "code",
   "execution_count": 100,
   "id": "75dabb1d",
   "metadata": {},
   "outputs": [
    {
     "name": "stdout",
     "output_type": "stream",
     "text": [
      "hi\n",
      "True\n",
      "handle_lend 721 | [NFTAddress(address=0x123,nft=E721)] [0]\n"
     ]
    }
   ],
   "source": [
    "lend([NFTAddress('0x123', NFT.E721)], [0])"
   ]
  },
  {
   "cell_type": "code",
   "execution_count": 88,
   "id": "8f105b45",
   "metadata": {},
   "outputs": [
    {
     "name": "stdout",
     "output_type": "stream",
     "text": [
      "hi\n",
      "hi\n"
=======
   "execution_count": 22,
   "id": "ea44b2a2",
   "metadata": {},
   "outputs": [
    {
     "output_type": "stream",
     "name": "stdout",
     "text": [
      "handle_lend 721 | [NFTAddress(address=0x123,nft=E721)] [0]\nhandle_lend 1155 | [NFTAddress(address=0x223,nft=E1155), NFTAddress(address=0x223,nft=E1155)] [1, 2]\nhandle_lend 721 | [NFTAddress(address=0x234,nft=E721)] [0]\nhandle_lend 721 | [NFTAddress(address=0x345,nft=E721)] [0]\nhandle_lend 1155 | [NFTAddress(address=0x223,nft=E1155), NFTAddress(address=0x223,nft=E1155)] [3, 4]\nhandle_lend 1155 | [NFTAddress(address=0x345,nft=E1155)] [10]\n"
>>>>>>> a966b32... wip
     ]
    }
   ],
   "source": [
    "lend(\n",
    "    [\n",
    "        NFTAddress('0x123', NFT.E721),\n",
<<<<<<< HEAD
    "        NFTAddress('0x123', NFT.E721)\n",
    "    ],\n",
    "    [\n",
    "        0,\n",
    "        0\n",
=======
    "        NFTAddress('0x223', NFT.E1155),\n",
    "        NFTAddress('0x223', NFT.E1155),\n",
    "        NFTAddress('0x234', NFT.E721),\n",
    "        NFTAddress('0x345', NFT.E721),\n",
    "        NFTAddress('0x223', NFT.E1155),\n",
    "        NFTAddress('0x223', NFT.E1155),\n",
    "        NFTAddress('0x345', NFT.E1155),\n",
    "    ],\n",
    "    [\n",
    "        0,\n",
    "        1,\n",
    "        2,\n",
    "        0,\n",
    "        0,\n",
    "        3,\n",
    "        4,\n",
    "        10\n",
>>>>>>> a966b32... wip
    "    ]\n",
    ")"
   ]
  },
  {
   "cell_type": "code",
<<<<<<< HEAD
   "execution_count": 69,
   "id": "dfaafe4b",
   "metadata": {},
   "outputs": [
    {
     "name": "stdout",
     "output_type": "stream",
     "text": [
      "handle_lend | [NFTAddress(address=0x123,nft=E721)] [0]\n",
      "handle_lend | [NFTAddress(address=0x123,nft=E721)] [0]\n",
      "handle_lend | [NFTAddress(address=0x123,nft=E721)] [0]\n"
     ]
    }
   ],
   "source": [
    "lend(\n",
    "    [\n",
    "        NFTAddress('0x123', NFT.E721),\n",
    "        NFTAddress('0x123', NFT.E721),\n",
    "        NFTAddress('0x123', NFT.E721)\n",
    "    ],\n",
    "    [\n",
    "        0,\n",
    "        0,\n",
    "        0\n",
    "    ]\n",
    ")"
   ]
  },
  {
   "cell_type": "code",
   "execution_count": 70,
   "id": "9d5bee4b",
   "metadata": {},
   "outputs": [
    {
     "name": "stdout",
     "output_type": "stream",
     "text": [
      "handle_lend | [NFTAddress(address=0x123,nft=E721)] [0]\n",
      "handle_lend | [NFTAddress(address=0x123,nft=E721)] [0]\n",
      "handle_lend | [NFTAddress(address=0x123,nft=E721)] [0]\n",
      "handle_lend | [NFTAddress(address=0x123,nft=E721)] [0]\n"
     ]
    }
   ],
   "source": [
    "lend(\n",
    "    [\n",
    "        NFTAddress('0x123', NFT.E721),\n",
    "        NFTAddress('0x123', NFT.E721),\n",
    "        NFTAddress('0x123', NFT.E721),\n",
    "        NFTAddress('0x123', NFT.E721)\n",
    "    ],\n",
    "    [\n",
    "        0,\n",
    "        0,\n",
    "        0,\n",
    "        0\n",
    "    ]\n",
    ")"
=======
   "execution_count": null,
   "id": "d51d0e23",
   "metadata": {},
   "outputs": [],
   "source": []
  },
  {
   "cell_type": "code",
   "execution_count": null,
   "metadata": {},
   "outputs": [],
   "source": [
    "def rent(_nft: List[NFTAddress], _amounts: List[int]):\n",
    "    nft_len = len(_nft)    \n",
    "    if nft_len < 2:\n",
    "        handle_rent([_nft[0]], [_amounts[0]])\n",
    "        return\n",
    "\n",
    "    last_ix, curr_ix = 0, 1\n",
    "    while curr_ix < nft_len:\n",
    "\n",
    "        if _nft[last_ix].address == _nft[curr_ix].address \\\n",
    "            and !is721(_nft[last_ix]):\n",
    "            curr_ix += 1\n",
    "            continue\n",
    "\n",
    "        handle_rent(_nft[last_ix:curr_ix], _amounts[last_ix:curr_ix])\n",
    "\n",
    "        last_ix = curr_ix\n",
    "        curr_ix += 1\n",
    "\n",
    "    handle_rent(_nft[last_ix:], _amounts[last_ix:])\n",
    "    #     function rent(\n",
    "    #     address[] memory _nft,\n",
    "    #     uint256[] memory _tokenId,\n",
    "    #     uint8[] memory _lentAmounts,\n",
    "    #     uint8[] memory _rentAmounts,\n",
    "    #     uint256[] memory _id,\n",
    "    #     uint8[] memory _rentDuration\n",
    "    # ) external payable override  {\n",
    "    #     uint256 ethPmtRequired = 0;\n",
    "    #     uint256 nftLen = _nft.length - 1;\n",
    "\n",
    "    #     for (uint256 i = 0; i < _nft.length; i++) {\n",
    "    #         LendingRenting storage item = lendingRenting[keccak256(abi.encodePacked(\n",
    "    #             _nft[i], _tokenId[i], _lentAmounts[i], _id[i]\n",
    "    #         ))];\n",
    "\n",
    "    #         _ensureIsNull(item.renting);\n",
    "    #         require(msg.sender != item.lending.lenderAddress, \"cant rent own nft\");\n",
    "    #         require(item.availableAmount >= _rentAmounts[i], \"not enough nfts to rent\");\n",
    "    #         require(_rentDuration[i] > 0, \"should rent for at least a day\");\n",
    "    #         require(_rentDuration[i] <= item.lending.maxRentDuration, \"max rent duration exceeded\");\n",
    "\n",
    "    #         uint8 paymentTokenIndex = uint8(item.lending.paymentToken);\n",
    "    #         address paymentToken = resolver.getPaymentToken(paymentTokenIndex);\n",
    "    #         bool isERC20 = paymentTokenIndex > 1;\n",
    "\n",
    "    #         uint256 decimals = 18;\n",
    "    #         if (isERC20) {\n",
    "    #             decimals = _decimals(paymentToken);\n",
    "    #         }\n",
    "\n",
    "    #         {\n",
    "    #             uint256 scale = 10**decimals;\n",
    "    #             uint256 rentPrice = _rentDuration[i] * _unpackPrice(item.lending.dailyRentPrice, scale);\n",
    "    #             uint256 nftPrice = _unpackPrice(item.lending.nftPrice, scale);\n",
    "    #             require(rentPrice > 0, \"rent price is zero\");\n",
    "    #             uint256 upfrontPayment = rentPrice + nftPrice;\n",
    "    #             if (isERC20) {\n",
    "    #                 IERC20(paymentToken).safeTransferFrom(msg.sender, address(this), upfrontPayment);\n",
    "    #             } else {\n",
    "    #                 ethPmtRequired += upfrontPayment;\n",
    "    #             }\n",
    "    #         }\n",
    "\n",
    "    #         if (i == nftLen) {\n",
    "    #             require(msg.value == ethPmtRequired, \"insufficient amount\");\n",
    "    #         }\n",
    "\n",
    "    #         item.renting.renterAddress = payable(msg.sender);\n",
    "    #         item.renting.rentDuration = _rentDuration[i];\n",
    "    #         item.renting.rentedAt = uint32(block.timestamp);\n",
    "    #         item.renting.rentedAmount = _rentAmounts[i];\n",
    "    #         item.lending.availableAmount = item.lending.availableAmount - _rentAmounts[i];\n",
    "\n",
    "    #         // TODO: batch transfer from the contract to sender\n",
    "    #         _safeTransfer(address(this), msg.sender, _nft[i], _tokenId[i]);\n",
    "\n",
    "    #         emit Rented(\n",
    "    #             _nft[i], _tokenId[i], _id[i], msg.sender,\n",
    "    #             _rentDuration[i], _isERC721(_nft[i]), uint32(block.timestamp),\n",
    "    #             _rentAmounts[i]\n",
    "    #         );\n",
    "    #     }\n",
    "    # }"
>>>>>>> a966b32... wip
   ]
  },
  {
   "cell_type": "code",
<<<<<<< HEAD
   "execution_count": 71,
   "id": "7ade8cc0",
   "metadata": {},
   "outputs": [
    {
     "name": "stdout",
     "output_type": "stream",
     "text": [
      "handle_lend | [NFTAddress(address=0x123,nft=E721)] [0]\n",
      "handle_lend | [NFTAddress(address=0x223,nft=E1155), NFTAddress(address=0x223,nft=E1155)] [1, 2]\n"
     ]
    }
   ],
   "source": [
    "lend(\n",
    "    [\n",
    "        NFTAddress('0x123', NFT.E721),\n",
    "        NFTAddress('0x223', NFT.E1155),\n",
    "        NFTAddress('0x223', NFT.E1155)\n",
    "    ],\n",
    "    [\n",
    "        0,\n",
    "        1,\n",
    "        2\n",
    "    ]\n",
    ")"
   ]
  },
  {
   "cell_type": "code",
   "execution_count": 75,
   "id": "ea44b2a2",
   "metadata": {},
   "outputs": [
    {
     "name": "stdout",
     "output_type": "stream",
     "text": [
      "handle_lend | [NFTAddress(address=0x123,nft=E721)] [0]\n",
      "handle_lend | [NFTAddress(address=0x223,nft=E1155), NFTAddress(address=0x223,nft=E1155)] [1, 2]\n",
      "handle_lend | [NFTAddress(address=0x234,nft=E721)] [0]\n",
      "handle_lend | [NFTAddress(address=0x345,nft=E721)] [0]\n",
      "handle_lend | [NFTAddress(address=0x223,nft=E1155), NFTAddress(address=0x223,nft=E1155)] [3, 4]\n",
      "handle_lend | [NFTAddress(address=0x345,nft=E1155)] [10]\n"
     ]
    }
   ],
   "source": [
    "lend(\n",
    "    [\n",
    "        NFTAddress('0x123', NFT.E721),\n",
    "        NFTAddress('0x223', NFT.E1155),\n",
    "        NFTAddress('0x223', NFT.E1155),\n",
    "        NFTAddress('0x234', NFT.E721),\n",
    "        NFTAddress('0x345', NFT.E721),\n",
    "        NFTAddress('0x223', NFT.E1155),\n",
    "        NFTAddress('0x223', NFT.E1155),\n",
    "        NFTAddress('0x345', NFT.E1155),\n",
    "    ],\n",
    "    [\n",
    "        0,\n",
    "        1,\n",
    "        2,\n",
    "        0,\n",
    "        0,\n",
    "        3,\n",
    "        4,\n",
    "        10\n",
    "    ]\n",
    ")"
   ]
=======
   "execution_count": null,
   "metadata": {},
   "outputs": [],
   "source": []
  },
  {
   "cell_type": "code",
   "execution_count": null,
   "metadata": {},
   "outputs": [],
   "source": []
>>>>>>> a966b32... wip
  },
  {
   "cell_type": "code",
   "execution_count": null,
<<<<<<< HEAD
   "id": "d51d0e23",
=======
>>>>>>> a966b32... wip
   "metadata": {},
   "outputs": [],
   "source": []
  }
 ],
 "metadata": {
  "kernelspec": {
<<<<<<< HEAD
   "display_name": "Python 3",
   "language": "python",
   "name": "python3"
=======
   "name": "python391jvsc74a57bd0938a21b4f6c94c52d862a87d807466b669e3d0d9ae04c17745a4ce108e53db99",
   "display_name": "Python 3.9.1 64-bit ('3.9.1': pyenv)"
>>>>>>> a966b32... wip
  },
  "language_info": {
   "codemirror_mode": {
    "name": "ipython",
    "version": 3
   },
   "file_extension": ".py",
   "mimetype": "text/x-python",
   "name": "python",
   "nbconvert_exporter": "python",
   "pygments_lexer": "ipython3",
   "version": "3.9.1"
  }
 },
 "nbformat": 4,
 "nbformat_minor": 5
<<<<<<< HEAD
}
=======
}
>>>>>>> a966b32... wip
